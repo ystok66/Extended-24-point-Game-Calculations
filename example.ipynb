{
 "cells": [
  {
   "cell_type": "code",
   "execution_count": 1,
   "metadata": {},
   "outputs": [
    {
     "data": {
      "text/plain": [
       "['sqrt(144)+(2*6)',\n",
       " '2*6+sqrt(144)',\n",
       " 'sqrt(144)*sqrt(6-2)',\n",
       " 'sqrt(6-2)*sqrt(144)',\n",
       " 'sqrt(144)+(6*2)',\n",
       " '6*2+sqrt(144)']"
      ]
     },
     "execution_count": 1,
     "metadata": {},
     "output_type": "execute_result"
    }
   ],
   "source": [
    "from extended_24points import *\n",
    "\n",
    "# elements list\n",
    "input_numbers=[144,2,6]\n",
    "\n",
    "#[[\"+\",\"-\",\"*\",\"/\",\"^\"],[\"\",\"sqrt\",\"factorial\"]], \"\" must be included\n",
    "allowed_operators=[[\"+\",\"-\",\"*\",\"/\"],[\"\",\"sqrt\"]] \n",
    "\n",
    "# target number\n",
    "target_number=24\n",
    "\n",
    "twenty_four_points_expansion(init_inputs(input_numbers), allowed_operators, [], target_number)"
   ]
  }
 ],
 "metadata": {
  "kernelspec": {
   "display_name": "base",
   "language": "python",
   "name": "python3"
  },
  "language_info": {
   "codemirror_mode": {
    "name": "ipython",
    "version": 3
   },
   "file_extension": ".py",
   "mimetype": "text/x-python",
   "name": "python",
   "nbconvert_exporter": "python",
   "pygments_lexer": "ipython3",
   "version": "3.8.3"
  }
 },
 "nbformat": 4,
 "nbformat_minor": 2
}
